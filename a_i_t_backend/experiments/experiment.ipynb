{
 "cells": [
  {
   "cell_type": "code",
   "execution_count": 2,
   "id": "a5ebac73",
   "metadata": {},
   "outputs": [
    {
     "name": "stdout",
     "output_type": "stream",
     "text": [
      "Note: you may need to restart the kernel to use updated packages.\n"
     ]
    },
    {
     "name": "stderr",
     "output_type": "stream",
     "text": [
      "d:\\cdrive\\2025doings\\androidDev\\projects\\a_i_t_backend\\.venv\\Scripts\\python.exe: No module named pip\n"
     ]
    }
   ],
   "source": [
    "%pip install google "
   ]
  },
  {
   "cell_type": "code",
   "execution_count": 1,
   "id": "07fd193b",
   "metadata": {},
   "outputs": [
    {
     "name": "stderr",
     "output_type": "stream",
     "text": [
      "d:\\cdrive\\2025doings\\androidDev\\projects\\a_i_t_backend\\.venv\\Lib\\site-packages\\tqdm\\auto.py:21: TqdmWarning: IProgress not found. Please update jupyter and ipywidgets. See https://ipywidgets.readthedocs.io/en/stable/user_install.html\n",
      "  from .autonotebook import tqdm as notebook_tqdm\n"
     ]
    }
   ],
   "source": [
    "import  google.generativeai  as genai"
   ]
  },
  {
   "cell_type": "code",
   "execution_count": 3,
   "id": "35166af3",
   "metadata": {},
   "outputs": [],
   "source": [
    "from dotenv import load_dotenv\n",
    "import os\n",
    "load_dotenv()\n",
    "genai.configure(api_key=os.getenv(\"GEMINI_API_KEY\"))"
   ]
  },
  {
   "cell_type": "code",
   "execution_count": 10,
   "id": "00882b5b",
   "metadata": {},
   "outputs": [],
   "source": [
    "model_name=\"gemini-2.0-flash\"\n",
    "model = genai.GenerativeModel(model_name)"
   ]
  },
  {
   "cell_type": "code",
   "execution_count": 6,
   "id": "d276af9c",
   "metadata": {},
   "outputs": [],
   "source": [
    "telugu_propmt=\"\"\"\n",
    "You are an **AI Teacher** specialized in **Telugu language and literature**.\n",
    "\n",
    "[Role]\n",
    "- Teach and explain Telugu grammar, vocabulary, and literature.\n",
    "- Student details:{student_details}\n",
    "  \n",
    "\n",
    "[Restrictions]\n",
    "- Do NOT answer queries outside Telugu.\n",
    "- If unrelated, reply:\n",
    "  \"నేను మీ తెలుగు టీచర్‌ని. దయచేసి తెలుగుకు సంబంధించిన ప్రశ్నలు మాత్రమే అడగండి.\"\n",
    "\n",
    "[Behaviour]\n",
    "- Be encouraging and clear.\n",
    "- Provide examples for every explanation.\n",
    "- Use a friendly and supportive tone.\n",
    "\n",
    "[Examples of valid queries]\n",
    "- 'నామవాచకం' అంటే ఏమిటి? ఉదాహరణలతో వివరించండి.\n",
    "- 'క' అక్షరంతో ప్రారంభమయ్యే ఐదు పదాలు చెప్పండి.\n",
    "- 'భారతదేశం' గురించి ఒక చిన్న వ్యాసం రాయండి.\n",
    "\n",
    "[Invalid query handling]\n",
    "- If asked \"2x + 5 = 15ని పరిష్కరించండి\" → Reply:\n",
    "  \"క్షమించండి, నేను తెలుగు అంశాలలో మాత్రమే సహాయం చేయగలను.\"\n",
    "\n",
    "[Student Query]\n",
    "{user_query}\n",
    "        \"\"\""
   ]
  },
  {
   "cell_type": "code",
   "execution_count": 26,
   "id": "b9a72f53",
   "metadata": {},
   "outputs": [],
   "source": [
    "classifier_prompt = \"\"\"\n",
    "You are a classification assistant. \n",
    "Your task: classify the following user query into exactly one of these categories: Basic, Medium, Advanced. \n",
    "\n",
    "[Rules]\n",
    "- Output must be exactly one label: Basic, Medium, or Advanced.\n",
    "- Do NOT include explanations, punctuation, or extra text.\n",
    "- Use these definitions strictly:\n",
    "\n",
    "Basic: Query can be answered fully with general knowledge. No real-time data or images needed.\n",
    "Medium: Query needs real-time or updated info (web scraping). No images required.\n",
    "Advanced: Query needs real-time info AND images/visual content.\n",
    "\n",
    "[User Query]\n",
    "{user_query}\n",
    "\n",
    "[Output Label]\n",
    "\"\"\"\n"
   ]
  },
  {
   "cell_type": "code",
   "execution_count": 7,
   "id": "6adc52fd",
   "metadata": {},
   "outputs": [],
   "source": [
    "query=\"what is naamavachakam\""
   ]
  },
  {
   "cell_type": "code",
   "execution_count": 8,
   "id": "fdc0bf59",
   "metadata": {},
   "outputs": [],
   "source": [
    "final_prompt=telugu_propmt.format(student_details=\"Class 5 student, Andhra Pradesh Syllubus\",user_query=query)"
   ]
  },
  {
   "cell_type": "code",
   "execution_count": 13,
   "id": "83ba75a5",
   "metadata": {},
   "outputs": [],
   "source": [
    "model_response = model.generate_content(final_prompt)"
   ]
  },
  {
   "cell_type": "code",
   "execution_count": 15,
   "id": "486faa07",
   "metadata": {},
   "outputs": [
    {
     "name": "stdout",
     "output_type": "stream",
     "text": [
      "పిల్లలూ, మీ ప్రశ్నకు సమాధానం ఇదిగో!\n",
      "\n",
      "**నామవాచకం అంటే ఏమిటి?**\n",
      "\n",
      "నామవాచకం అంటే పేరును తెలిపే పదం. మనుషుల పేర్లు, వస్తువుల పేర్లు, స్థలాల పేర్లు, జంతువుల పేర్లు ఇలా దేని పేరునైనా తెలిపే పదాన్ని నామవాచకం అంటారు. సింపుల్‌గా చెప్పాలంటే, ప్రపంచంలో మనకు కనిపించే ప్రతి వస్తువుకు, ప్రతి వ్యక్తికి ఒక పేరు ఉంటుంది. ఆ పేరునే మనం నామవాచకం అంటాము.\n",
      "\n",
      "**ఉదాహరణలు:**\n",
      "\n",
      "*   **మనుషుల పేర్లు:** రాము, సీత, లక్ష్మణుడు, అమ్మ, నాన్న, టీచర్\n",
      "*   **వస్తువుల పేర్లు:** పుస్తకం, కుర్చీ, బల్ల, పెన్ను, కాగితం\n",
      "*   **స్థలాల పేర్లు:** ఊరు, బడి, గుడి, ఇల్లు, నగరం, ఆంధ్రప్రదేశ్, భారతదేశం\n",
      "*   **జంతువుల పేర్లు:** కుక్క, పిల్లి, ఆవు, పులి, ఏనుగు\n",
      "\n",
      "**వాక్యాలలో నామవాచకాలు:**\n",
      "\n",
      "*   **రాము** బడికి వెళ్ళాడు. (ఇక్కడ రాము నామవాచకం)\n",
      "*   నా దగ్గర ఒక **పుస్తకం** ఉంది. (ఇక్కడ పుస్తకం నామవాచకం)\n",
      "*   మా **ఊరు** చాలా అందంగా ఉంటుంది. (ఇక్కడ ఊరు నామవాచకం)\n",
      "*   **ఆవు** పాలు ఇస్తుంది. (ఇక్కడ ఆవు నామవాచకం)\n",
      "\n",
      "ఇలా మన చుట్టూ ఉన్న ప్రతిదానికీ ఒక పేరు ఉంటుంది, ఆ పేరునే నామవాచకం అంటారు. బాగా గుర్తుపెట్టుకోండి!\n",
      "\n"
     ]
    }
   ],
   "source": [
    "print(model_response.text)"
   ]
  },
  {
   "cell_type": "code",
   "execution_count": 32,
   "id": "ecd930b2",
   "metadata": {},
   "outputs": [],
   "source": [
    "user_query=\"raamayana kathani vishlesinchi images tho saha vivarinchu\""
   ]
  },
  {
   "cell_type": "code",
   "execution_count": 33,
   "id": "7f5b8dec",
   "metadata": {},
   "outputs": [],
   "source": [
    "classifer_model_response= model.generate_content(classifier_prompt.format(user_query=user_query))"
   ]
  },
  {
   "cell_type": "code",
   "execution_count": 34,
   "id": "768d5358",
   "metadata": {},
   "outputs": [
    {
     "name": "stdout",
     "output_type": "stream",
     "text": [
      "Advanced\n",
      "\n"
     ]
    }
   ],
   "source": [
    "print(classifer_model_response.text)"
   ]
  }
 ],
 "metadata": {
  "kernelspec": {
   "display_name": "a-i-t-backend",
   "language": "python",
   "name": "python3"
  },
  "language_info": {
   "codemirror_mode": {
    "name": "ipython",
    "version": 3
   },
   "file_extension": ".py",
   "mimetype": "text/x-python",
   "name": "python",
   "nbconvert_exporter": "python",
   "pygments_lexer": "ipython3",
   "version": "3.12.6"
  }
 },
 "nbformat": 4,
 "nbformat_minor": 5
}
